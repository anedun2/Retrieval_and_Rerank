{
 "cells": [
  {
   "cell_type": "code",
   "execution_count": 1,
   "metadata": {},
   "outputs": [],
   "source": [
    "# Import necessary libraries\n",
    "import pandas as pd\n",
    "import numpy as np\n",
    "import pandas as pd\n",
    "import logging\n",
    "import sys\n",
    "import config\n",
    "import json\n",
    "from sentence_transformers import SentenceTransformer, util\n",
    "import gzip\n",
    "import os\n",
    "import torch\n",
    "\n",
    "# Import OpenAI and other necessary modules\n",
    "import openai\n",
    "\n",
    "# Import classes and functions from modules\n",
    "from llama_index import (\n",
    "    Document,\n",
    "    VectorStoreIndex,\n",
    "    ListIndex,\n",
    "    SimpleDirectoryReader,\n",
    "    ServiceContext,\n",
    "    StorageContext,\n",
    "    SimpleKeywordTableIndex,\n",
    ")\n",
    "from llama_index.indices.postprocessor import (\n",
    "    LLMRerank\n",
    ")\n",
    "from llama_index.response.notebook_utils import display_response\n",
    "from llama_index.llms import OpenAI\n",
    "\n",
    "# Configure logging\n",
    "logging.basicConfig(stream=sys.stdout, level=logging.INFO)\n",
    "logging.getLogger().handlers = []\n",
    "logging.getLogger().addHandler(logging.StreamHandler(stream=sys.stdout))\n"
   ]
  },
  {
   "cell_type": "code",
   "execution_count": 2,
   "metadata": {},
   "outputs": [],
   "source": [
    "#OpenAI API Key Authentication (The OpenAI API Key will be stored in the config.py file)\n",
    "openai.api_key = config.openai_key"
   ]
  },
  {
   "cell_type": "code",
   "execution_count": 3,
   "metadata": {},
   "outputs": [],
   "source": [
    "# Initialize OpenAI's LLM (Language Learning Model)\n",
    "llm = OpenAI(model=\"gpt-3.5-turbo\")\n",
    "service_context = ServiceContext.from_defaults(chunk_size=1024, llm=llm)"
   ]
  },
  {
   "cell_type": "code",
   "execution_count": 4,
   "metadata": {},
   "outputs": [],
   "source": [
    "# Read and process query, document, and relevance data\n",
    "df_queries = pd.read_csv('antique_query_test.csv')\n",
    "df_queries = df_queries[['query_id','text']]\n",
    "\n",
    "df_docs = pd.read_csv('antique_sample_404k.csv')\n",
    "df_docs = df_docs[['doc_id','text']]\n",
    "\n",
    "df_qrel = pd.read_csv('antique_qurel_test.csv')\n",
    "df_qrel = df_qrel[['query_id','doc_id','relevance']]\n",
    "\n",
    "# Merge relevant data for query and document\n",
    "merged_df = df_qrel.merge(df_docs, on='doc_id', how='left')\n",
    "\n",
    "# Extract text data from merged DataFrame\n",
    "df_text = merged_df[['doc_id','text']]\n",
    "\n",
    "# Initialize an empty list to store passages\n",
    "passages = []\n",
    "\n",
    "# Iterate through each row in the 'df_text' DataFrame and append text to the 'passages' list\n",
    "for index, row in df_text.iterrows():\n",
    "    passages.append(str(row['text']))"
   ]
  },
  {
   "cell_type": "code",
   "execution_count": 5,
   "metadata": {},
   "outputs": [],
   "source": [
    "# Load pre-computed document embeddings\n",
    "import pickle\n",
    "with open('corpus_embeddings_text.pickle', 'rb') as pkl:\n",
    "    doc_embedding = pickle.load(pkl)"
   ]
  },
  {
   "cell_type": "code",
   "execution_count": 6,
   "metadata": {},
   "outputs": [
    {
     "name": "stdout",
     "output_type": "stream",
     "text": [
      "Load pretrained SentenceTransformer: intfloat/e5-base-v2\n",
      "Created a temporary directory at /var/folders/75/0dtb1gc52pdfr40bnpp97qj00000gn/T/tmp_hi35l7g\n",
      "Writing /var/folders/75/0dtb1gc52pdfr40bnpp97qj00000gn/T/tmp_hi35l7g/_remote_module_non_scriptable.py\n",
      "Use pytorch device: cpu\n"
     ]
    }
   ],
   "source": [
    "# Initialize SentenceTransformer for embedding\n",
    "bi_encoder = SentenceTransformer('intfloat/e5-base-v2')\n",
    "bi_encoder.max_seq_length = 256     #Truncate long passages to 256 tokens\n",
    "# top_k = 32                          #Number of passages we want to retrieve with the bi-encoder"
   ]
  },
  {
   "cell_type": "code",
   "execution_count": 7,
   "metadata": {},
   "outputs": [],
   "source": [
    "# Function to perform semantic search\n",
    "\n",
    "# This function will search all the articles for passages that\n",
    "# answer the query\n",
    "def search(input_query):  \n",
    "    output_answers=[]  \n",
    "    ##### Sematic Search #####\n",
    "    # Encode the query using the bi-encoder and find potentially relevant passages\n",
    "    question_embedding = bi_encoder.encode(input_query, convert_to_tensor=True)\n",
    "    hits = util.semantic_search(question_embedding, doc_embedding, top_k=50)\n",
    "    hits = hits[0]  # Get the hits for the first query\n",
    "\n",
    "    hits = sorted(hits, key=lambda x: x['score'], reverse=True)\n",
    "    for hit in hits:\n",
    "        output_answer =  passages[hit['corpus_id']].replace(\"\\n\", \" \")\n",
    "        output_answers.append(output_answer)  # Append to the list\n",
    "\n",
    "    return output_answers  # Return the list of output answers"
   ]
  },
  {
   "cell_type": "code",
   "execution_count": 8,
   "metadata": {},
   "outputs": [
    {
     "data": {
      "application/vnd.jupyter.widget-view+json": {
       "model_id": "6a37cfb46af7402e87bc3d2b92e9bb07",
       "version_major": 2,
       "version_minor": 0
      },
      "text/plain": [
       "Batches:   0%|          | 0/1 [00:00<?, ?it/s]"
      ]
     },
     "metadata": {},
     "output_type": "display_data"
    },
    {
     "data": {
      "text/plain": [
       "['because there is no gravity strong enough around earth for water to fall of the earth',\n",
       " \"Water doesn't spill off of the earth because there is gravity in the center of the earth that holds down the water.\",\n",
       " \"This goes along with the question of why don't we fall off the earth if it is round. The answer is because gravity is holding us (and the water) down.\",\n",
       " \"The world isn't round. It's a cube.\",\n",
       " \"Why don't we fall off?  Simple, gravity.  Large objects have a natural gravitational pull...  Earth is a LARGE object haha  A very large object.  So Earth is just pulling water towards it.\"]"
      ]
     },
     "execution_count": 8,
     "metadata": {},
     "output_type": "execute_result"
    }
   ],
   "source": [
    "# Perform semantic search on a sample query\n",
    "retrieved_docs = search(input_query = \"Why doesn't the water fall off  earth if it's round?\")\n",
    "retrieved_docs[0:5]"
   ]
  },
  {
   "cell_type": "code",
   "execution_count": 9,
   "metadata": {},
   "outputs": [],
   "source": [
    "# Create Document objects for the retrieved documents\n",
    "documents = [Document(text=t) for t in retrieved_docs]\n",
    "\n",
    "# Create a VectorStoreIndex from the retrieved documents\n",
    "retrieved_docs_index = VectorStoreIndex.from_documents(documents)"
   ]
  },
  {
   "cell_type": "code",
   "execution_count": 10,
   "metadata": {},
   "outputs": [],
   "source": [
    "# Initialize an LLM reranker\n",
    "reranker = LLMRerank(top_n=10)\n",
    "\n",
    "# Create a query engine with reranking\n",
    "query_engine = retrieved_docs_index.as_query_engine(\n",
    "    similarity_top_k=10,\n",
    "    node_postprocessors=[reranker],\n",
    ")"
   ]
  },
  {
   "cell_type": "code",
   "execution_count": 11,
   "metadata": {},
   "outputs": [],
   "source": [
    "# Query the engine with a sample query and display the response\n",
    "response = query_engine.query(\n",
    "    \"Why doesn't the water fall off  earth if it's round?\"\n",
    ")"
   ]
  },
  {
   "cell_type": "code",
   "execution_count": 12,
   "metadata": {},
   "outputs": [
    {
     "data": {
      "text/markdown": [
       "**`Final Response:`** The water doesn't fall off the earth because of the gravitational pull of the earth. The round shape of the earth helps to create a stronger gravitational pull, which helps to keep the water in place. The round shape also helps to create a more stable state, which helps to keep the water from spilling off the earth."
      ],
      "text/plain": [
       "<IPython.core.display.Markdown object>"
      ]
     },
     "metadata": {},
     "output_type": "display_data"
    },
    {
     "data": {
      "text/markdown": [
       "---"
      ],
      "text/plain": [
       "<IPython.core.display.Markdown object>"
      ]
     },
     "metadata": {},
     "output_type": "display_data"
    },
    {
     "data": {
      "text/markdown": [
       "**`Source Node 1/3`**"
      ],
      "text/plain": [
       "<IPython.core.display.Markdown object>"
      ]
     },
     "metadata": {},
     "output_type": "display_data"
    },
    {
     "data": {
      "text/markdown": [
       "**Node ID:** c90b5590-4e0d-41ef-953e-2d54dbddf694<br>**Similarity:** 8.0<br>**Text:** Water doesn't spill off of the earth because there is gravity in the center of the earth that holds down the water....<br>"
      ],
      "text/plain": [
       "<IPython.core.display.Markdown object>"
      ]
     },
     "metadata": {},
     "output_type": "display_data"
    },
    {
     "data": {
      "text/markdown": [
       "---"
      ],
      "text/plain": [
       "<IPython.core.display.Markdown object>"
      ]
     },
     "metadata": {},
     "output_type": "display_data"
    },
    {
     "data": {
      "text/markdown": [
       "**`Source Node 2/3`**"
      ],
      "text/plain": [
       "<IPython.core.display.Markdown object>"
      ]
     },
     "metadata": {},
     "output_type": "display_data"
    },
    {
     "data": {
      "text/markdown": [
       "**Node ID:** 17968708-6d30-4ec2-8ec5-1f50c630a9a9<br>**Similarity:** 7.0<br>**Text:** Why don't we fall off?  Simple, gravity.  Large objects have a natural gravitational pull...  Earth is a LARGE object haha  A very large object.  So Earth is just pulling water towards it....<br>"
      ],
      "text/plain": [
       "<IPython.core.display.Markdown object>"
      ]
     },
     "metadata": {},
     "output_type": "display_data"
    },
    {
     "data": {
      "text/markdown": [
       "---"
      ],
      "text/plain": [
       "<IPython.core.display.Markdown object>"
      ]
     },
     "metadata": {},
     "output_type": "display_data"
    },
    {
     "data": {
      "text/markdown": [
       "**`Source Node 3/3`**"
      ],
      "text/plain": [
       "<IPython.core.display.Markdown object>"
      ]
     },
     "metadata": {},
     "output_type": "display_data"
    },
    {
     "data": {
      "text/markdown": [
       "**Node ID:** c967249c-a4ed-4b66-abd1-7cbd8fdacf02<br>**Similarity:** 6.0<br>**Text:** The same reason a drop of mercury in a bowl is round. 'Round' is the most stable state. It's the only configuration that gets the most 'earth' closest to the center and uses up the most gravitational potential energy. You can see how this works by imagining an avalanche. The rocks move as close as they can toward the center of the earth by falling and along with erosion, tends to make the earth even more 'rounder'....<br>"
      ],
      "text/plain": [
       "<IPython.core.display.Markdown object>"
      ]
     },
     "metadata": {},
     "output_type": "display_data"
    }
   ],
   "source": [
    "# Display the response with source and other details\n",
    "display_response(\n",
    "    response, show_source=True, source_length=500\n",
    ")"
   ]
  }
 ],
 "metadata": {
  "kernelspec": {
   "display_name": "Python 3",
   "language": "python",
   "name": "python3"
  },
  "language_info": {
   "codemirror_mode": {
    "name": "ipython",
    "version": 3
   },
   "file_extension": ".py",
   "mimetype": "text/x-python",
   "name": "python",
   "nbconvert_exporter": "python",
   "pygments_lexer": "ipython3",
   "version": "3.11.4"
  },
  "orig_nbformat": 4
 },
 "nbformat": 4,
 "nbformat_minor": 2
}
